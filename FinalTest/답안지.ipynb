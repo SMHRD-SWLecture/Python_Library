{
 "cells": [
  {
   "cell_type": "markdown",
   "id": "064cb7c6-d858-4869-af32-646c2bb0c394",
   "metadata": {},
   "source": [
    "### 파이썬 활용 라이브러리 & 시각화 평가 답안지\n",
    "- 파일명에 본인 성명 기입하시오(Enter your name in the file name.)\n",
    "- 수업 중 배웠던 내용을 상기하여 최선을 다해 문제 풀어주세요.(Recall what you learned in class and do your best to solve the problem.)"
   ]
  },
  {
   "cell_type": "markdown",
   "id": "3833fdd6-a668-4958-9ae1-e29d5f08cd65",
   "metadata": {},
   "source": [
    "#### Question1\n",
    "다음은 어떤 차트에 대한 설명이다. 각 빈칸에 알맞은 답을 작성하시오."
   ]
  },
  {
   "cell_type": "markdown",
   "id": "2889780b-7406-4485-a2db-cd231a5db3ef",
   "metadata": {},
   "source": [
    "##### ① : 선 그래프\n",
    "##### ② : plot"
   ]
  },
  {
   "cell_type": "markdown",
   "id": "f33b8bc1-0105-459f-b33a-c17730a63229",
   "metadata": {},
   "source": [
    "#### Question2\n",
    "다음은 어떤 차트에 대한 출력물이다. 문제를 읽고 알맞은 답을 작성하시오. "
   ]
  },
  {
   "cell_type": "markdown",
   "id": "cf0d69e7-e17f-4e3d-99fc-a1de1a456b0a",
   "metadata": {},
   "source": [
    "1) 이 차트의 명칭을 작성하시오."
   ]
  },
  {
   "cell_type": "markdown",
   "id": "5498b7b2-a0bc-4bba-a961-9bfb9ce5957e",
   "metadata": {},
   "source": [
    "##### 막대그래프"
   ]
  },
  {
   "cell_type": "markdown",
   "id": "e1adfe40-70f9-4fdd-bde1-47745c087006",
   "metadata": {},
   "source": [
    "2) 이 차트를 matplotlib.pyplot 라이브러리를 사용하여 시각화하기 위해서 어떤 함수를 사용하는지 작성하시오. "
   ]
  },
  {
   "cell_type": "markdown",
   "id": "64ce39f4-4bdc-44b6-95ab-01502c6fd14a",
   "metadata": {},
   "source": [
    "##### bar 함수"
   ]
  },
  {
   "cell_type": "markdown",
   "id": "babc0413-7abc-411d-818f-228e844139ae",
   "metadata": {},
   "source": [
    "#### Question3\n",
    "아래와 같이 리스트를 만들고 요소의 짝수/홀수를 구분하여 개수를 세는 프로그램을 작성하시오. "
   ]
  },
  {
   "cell_type": "code",
   "execution_count": 8,
   "id": "489812eb-c0a3-442e-b7c3-d709b89a901e",
   "metadata": {},
   "outputs": [],
   "source": [
    "list1 = [1, 50, 27, 19, 37, 33, 5, 3, 48]\n",
    "\n",
    "even = 0 \n",
    "odd = 0 "
   ]
  },
  {
   "cell_type": "code",
   "execution_count": 9,
   "id": "e69cf3ba",
   "metadata": {},
   "outputs": [],
   "source": [
    "for num in list1:\n",
    "    if num % 2 == 0:\n",
    "        even += 1\n",
    "    else:\n",
    "        odd += 1"
   ]
  },
  {
   "cell_type": "code",
   "execution_count": 10,
   "id": "e24fb085",
   "metadata": {},
   "outputs": [
    {
     "name": "stdout",
     "output_type": "stream",
     "text": [
      "짝수 2개, 홀수7개\n"
     ]
    }
   ],
   "source": [
    "print(f\"짝수 {even}개, 홀수{odd}개\")"
   ]
  },
  {
   "cell_type": "markdown",
   "id": "f89f167e-204d-408b-9478-3ec90a671236",
   "metadata": {},
   "source": [
    "#### Question4\n",
    "다음 score_list에 들어있는 데이터를 이용해 아래와 같이 성적표를 만드는 프로그램을 작성하시오. (단, 학생의 숫자가 늘어나도 동작할 수 있도록 고려하시오.)\n",
    "<br>\n",
    "※ DF이 아닌 리스트로 실행"
   ]
  },
  {
   "cell_type": "code",
   "execution_count": 37,
   "id": "9e9822f2-b176-42d2-b011-fb7f0dec8545",
   "metadata": {},
   "outputs": [],
   "source": [
    "score_list = [['김미희', 89, 78, 99],\n",
    "              ['서대희', 67, 88, 77],\n",
    "              ['강예진', 100, 55, 96],\n",
    "              ['차현석', 75, 100, 60]]"
   ]
  },
  {
   "cell_type": "code",
   "execution_count": 39,
   "id": "40ad8f30",
   "metadata": {},
   "outputs": [],
   "source": [
    "def get_grade(avg):\n",
    "    if avg >= 90:\n",
    "        return 'A'\n",
    "    elif avg >= 80:\n",
    "        return 'B'\n",
    "    elif avg >= 70:\n",
    "        return 'C'\n",
    "    elif avg >= 60:\n",
    "        return 'D'\n",
    "    else:\n",
    "        return 'F'"
   ]
  },
  {
   "cell_type": "code",
   "execution_count": 40,
   "id": "4a510868",
   "metadata": {},
   "outputs": [],
   "source": [
    "total_python = 0\n",
    "total_java = 0\n",
    "total_db = 0"
   ]
  },
  {
   "cell_type": "code",
   "execution_count": 41,
   "id": "d79888ff",
   "metadata": {},
   "outputs": [
    {
     "name": "stdout",
     "output_type": "stream",
     "text": [
      "================================================\n",
      "이름    Python  Java    DB    평균    학점\n",
      "================================================\n",
      "김미희       89    78    99    88     B\n",
      "서대희       67    88    77    77     C\n",
      "강예진      100    55    96    83     B\n",
      "차현석       75   100    60    78     C\n",
      "================================================\n",
      "평균        82    80    83\n"
     ]
    }
   ],
   "source": [
    "print(\"=\" * 48)\n",
    "print(f\"{'이름':<6}{'Python':>6}{'Java':>6}{'DB':>6}{'평균':>6}{'학점':>6}\")\n",
    "print(\"=\" * 48)\n",
    "\n",
    "for student in score_list:\n",
    "    name, py, java, db = student\n",
    "    avg = (py + java + db) // 3\n",
    "    grade = get_grade(avg)\n",
    "    print(f\"{name:<6}{py:>6}{java:>6}{db:>6}{avg:>6}{grade:>6}\")\n",
    "\n",
    "    total_python += py\n",
    "    total_java += java\n",
    "    total_db += db\n",
    "\n",
    "n = len(score_list)\n",
    "avg_py = total_python // n\n",
    "avg_java = total_java // n\n",
    "avg_db = total_db // n\n",
    "\n",
    "print(\"=\" * 48)\n",
    "print(f\"{'평균':<6}{avg_py:>6}{avg_java:>6}{avg_db:>6}\")"
   ]
  },
  {
   "cell_type": "code",
   "execution_count": null,
   "id": "05ef2990",
   "metadata": {},
   "outputs": [],
   "source": []
  },
  {
   "cell_type": "markdown",
   "id": "22b7765c-be99-42dd-b140-ca28616c3569",
   "metadata": {},
   "source": [
    "#### Question5\n",
    " X, Y1, Y2 리스트 자료를 활용하여 [실행결과]와 같은 그래프를 출력하는 프로그램을 작성하시오.  (단, 두 차트는 빨간색과 파란색을 통해 구별 하시오.)"
   ]
  },
  {
   "cell_type": "code",
   "execution_count": 42,
   "id": "560e7d66",
   "metadata": {},
   "outputs": [],
   "source": [
    "import matplotlib.pyplot as plt"
   ]
  },
  {
   "cell_type": "code",
   "execution_count": 43,
   "id": "6259c1a1",
   "metadata": {},
   "outputs": [],
   "source": [
    "X = [2, 3, 4, 5, 6, 7, 8]\n",
    "Y1 = [5, 7, 3, 9, 1, 8, 6]\n",
    "Y2 = [9, 5, 7, 2, 3, 7, 1]"
   ]
  },
  {
   "cell_type": "code",
   "execution_count": 46,
   "id": "fc4683e3",
   "metadata": {},
   "outputs": [
    {
     "data": {
      "image/png": "[encoded data removed]",
      "text/plain": [
       "<Figure size 640x480 with 1 Axes>"
      ]
     },
     "metadata": {},
     "output_type": "display_data"
    }
   ],
   "source": [
    "plt.plot(X, Y1, color='red', label='Y1')    \n",
    "plt.plot(X, Y2, color='blue', label='Y2')  \n",
    "\n",
    "plt.xlabel(\"X\")\n",
    "plt.ylabel(\"Y\")\n",
    "plt.legend()\n",
    "plt.grid(True)\n",
    "\n",
    "plt.show()"
   ]
  },
  {
   "cell_type": "markdown",
   "id": "8d6b6436-dd2f-4fa2-9bb1-49c9fcc79e38",
   "metadata": {},
   "source": [
    "#### Question6\n",
    "Traffic_Accident_2017.csv 데이터를 이용하여 ‘차대 사람’인 사건 중 야간에 발생한 사건에 대해 아래 주어진 조건을 지켜 다음과 같이 시각화 하시오.\n",
    "\n",
    "※ 조건 내용 반드시 확인할 것  \n",
    " 조건 1. 사고유형_대분류가 ‘차대사람’ 이면서 발생시간대가 ‘야간’인 경우의 사고 건수 카운트  \n",
    " 조건 2. y축의 범위는 0~200으로 설정할 것  \n",
    " 조건 3. 차트 내부 글씨는 한글로 표시할 것  \n",
    " 조건 4. 시각화한 데이터를 이미지로 저장할 것. 이미지명은 차트명과 동일하게 할 것"
   ]
  },
  {
   "cell_type": "code",
   "execution_count": 47,
   "id": "4d0c05f6-f9d9-4a30-9cfa-55e903c948e9",
   "metadata": {},
   "outputs": [],
   "source": [
    "import pandas as pd\n",
    "import matplotlib.pyplot as plt"
   ]
  },
  {
   "cell_type": "code",
   "execution_count": 49,
   "id": "65598bfa",
   "metadata": {},
   "outputs": [],
   "source": [
    "df = pd.read_csv('Traffic_Accident_2017.csv', encoding='euc-kr')"
   ]
  },
  {
   "cell_type": "code",
   "execution_count": 52,
   "id": "653459f1",
   "metadata": {},
   "outputs": [],
   "source": [
    "filter_df = df[(df['사고유형_대분류'] == '차대사람') & (df['주야'] == '야간')]"
   ]
  },
  {
   "cell_type": "code",
   "execution_count": 53,
   "id": "6abc1b3d",
   "metadata": {},
   "outputs": [],
   "source": [
    "weekday_counts = filter_df['요일'].value_counts().reindex(['월', '화', '수', '목', '금', '토', '일'])"
   ]
  },
  {
   "cell_type": "code",
   "execution_count": 55,
   "id": "41b056e4",
   "metadata": {},
   "outputs": [
    {
     "name": "stderr",
     "output_type": "stream",
     "text": [
      "/opt/anaconda3/envs/school_class/lib/python3.12/site-packages/IPython/core/pylabtools.py:170: UserWarning: Glyph 49324 (\\N{HANGUL SYLLABLE SA}) missing from font(s) DejaVu Sans.\n",
      "  fig.canvas.print_figure(bytes_io, **kw)\n",
      "/opt/anaconda3/envs/school_class/lib/python3.12/site-packages/IPython/core/pylabtools.py:170: UserWarning: Glyph 44148 (\\N{HANGUL SYLLABLE GEON}) missing from font(s) DejaVu Sans.\n",
      "  fig.canvas.print_figure(bytes_io, **kw)\n",
      "/opt/anaconda3/envs/school_class/lib/python3.12/site-packages/IPython/core/pylabtools.py:170: UserWarning: Glyph 49688 (\\N{HANGUL SYLLABLE SU}) missing from font(s) DejaVu Sans.\n",
      "  fig.canvas.print_figure(bytes_io, **kw)\n",
      "/opt/anaconda3/envs/school_class/lib/python3.12/site-packages/IPython/core/pylabtools.py:170: UserWarning: Glyph 50836 (\\N{HANGUL SYLLABLE YO}) missing from font(s) DejaVu Sans.\n",
      "  fig.canvas.print_figure(bytes_io, **kw)\n",
      "/opt/anaconda3/envs/school_class/lib/python3.12/site-packages/IPython/core/pylabtools.py:170: UserWarning: Glyph 51068 (\\N{HANGUL SYLLABLE IL}) missing from font(s) DejaVu Sans.\n",
      "  fig.canvas.print_figure(bytes_io, **kw)\n",
      "/opt/anaconda3/envs/school_class/lib/python3.12/site-packages/IPython/core/pylabtools.py:170: UserWarning: Glyph 48324 (\\N{HANGUL SYLLABLE BYEOL}) missing from font(s) DejaVu Sans.\n",
      "  fig.canvas.print_figure(bytes_io, **kw)\n",
      "/opt/anaconda3/envs/school_class/lib/python3.12/site-packages/IPython/core/pylabtools.py:170: UserWarning: Glyph 50556 (\\N{HANGUL SYLLABLE YA}) missing from font(s) DejaVu Sans.\n",
      "  fig.canvas.print_figure(bytes_io, **kw)\n",
      "/opt/anaconda3/envs/school_class/lib/python3.12/site-packages/IPython/core/pylabtools.py:170: UserWarning: Glyph 44036 (\\N{HANGUL SYLLABLE GAN}) missing from font(s) DejaVu Sans.\n",
      "  fig.canvas.print_figure(bytes_io, **kw)\n",
      "/opt/anaconda3/envs/school_class/lib/python3.12/site-packages/IPython/core/pylabtools.py:170: UserWarning: Glyph 52264 (\\N{HANGUL SYLLABLE CA}) missing from font(s) DejaVu Sans.\n",
      "  fig.canvas.print_figure(bytes_io, **kw)\n",
      "/opt/anaconda3/envs/school_class/lib/python3.12/site-packages/IPython/core/pylabtools.py:170: UserWarning: Glyph 45824 (\\N{HANGUL SYLLABLE DAE}) missing from font(s) DejaVu Sans.\n",
      "  fig.canvas.print_figure(bytes_io, **kw)\n",
      "/opt/anaconda3/envs/school_class/lib/python3.12/site-packages/IPython/core/pylabtools.py:170: UserWarning: Glyph 46988 (\\N{HANGUL SYLLABLE RAM}) missing from font(s) DejaVu Sans.\n",
      "  fig.canvas.print_figure(bytes_io, **kw)\n",
      "/opt/anaconda3/envs/school_class/lib/python3.12/site-packages/IPython/core/pylabtools.py:170: UserWarning: Glyph 44368 (\\N{HANGUL SYLLABLE GYO}) missing from font(s) DejaVu Sans.\n",
      "  fig.canvas.print_figure(bytes_io, **kw)\n",
      "/opt/anaconda3/envs/school_class/lib/python3.12/site-packages/IPython/core/pylabtools.py:170: UserWarning: Glyph 53685 (\\N{HANGUL SYLLABLE TONG}) missing from font(s) DejaVu Sans.\n",
      "  fig.canvas.print_figure(bytes_io, **kw)\n",
      "/opt/anaconda3/envs/school_class/lib/python3.12/site-packages/IPython/core/pylabtools.py:170: UserWarning: Glyph 44256 (\\N{HANGUL SYLLABLE GO}) missing from font(s) DejaVu Sans.\n",
      "  fig.canvas.print_figure(bytes_io, **kw)\n",
      "/opt/anaconda3/envs/school_class/lib/python3.12/site-packages/IPython/core/pylabtools.py:170: UserWarning: Glyph 50900 (\\N{HANGUL SYLLABLE WEOL}) missing from font(s) DejaVu Sans.\n",
      "  fig.canvas.print_figure(bytes_io, **kw)\n",
      "/opt/anaconda3/envs/school_class/lib/python3.12/site-packages/IPython/core/pylabtools.py:170: UserWarning: Glyph 54868 (\\N{HANGUL SYLLABLE HWA}) missing from font(s) DejaVu Sans.\n",
      "  fig.canvas.print_figure(bytes_io, **kw)\n",
      "/opt/anaconda3/envs/school_class/lib/python3.12/site-packages/IPython/core/pylabtools.py:170: UserWarning: Glyph 47785 (\\N{HANGUL SYLLABLE MOG}) missing from font(s) DejaVu Sans.\n",
      "  fig.canvas.print_figure(bytes_io, **kw)\n",
      "/opt/anaconda3/envs/school_class/lib/python3.12/site-packages/IPython/core/pylabtools.py:170: UserWarning: Glyph 44552 (\\N{HANGUL SYLLABLE GEUM}) missing from font(s) DejaVu Sans.\n",
      "  fig.canvas.print_figure(bytes_io, **kw)\n",
      "/opt/anaconda3/envs/school_class/lib/python3.12/site-packages/IPython/core/pylabtools.py:170: UserWarning: Glyph 53664 (\\N{HANGUL SYLLABLE TO}) missing from font(s) DejaVu Sans.\n",
      "  fig.canvas.print_figure(bytes_io, **kw)\n"
     ]
    },
    {
     "data": {
      "image/png": "[encoded data removed]",
      "text/plain": [
       "<Figure size 1000x600 with 1 Axes>"
      ]
     },
     "metadata": {},
     "output_type": "display_data"
    }
   ],
   "source": [
    "plt.figure(figsize=(10, 6))\n",
    "bars = plt.bar(weekday_counts.index, weekday_counts.values, color='blue')\n",
    "plt.ylim(0, 200)\n",
    "plt.title('요일별 야간 차대사람 교통사고 건수')\n",
    "plt.xlabel('요일')\n",
    "plt.ylabel('사건 건수')\n",
    "plt.show()"
   ]
  },
  {
   "cell_type": "code",
   "execution_count": 57,
   "id": "6c4c10b3",
   "metadata": {},
   "outputs": [
    {
     "data": {
      "text/plain": [
       "<Figure size 640x480 with 0 Axes>"
      ]
     },
     "metadata": {},
     "output_type": "display_data"
    }
   ],
   "source": [
    "plt.savefig('요일별 야간 차대사람 교통사고 건수.jpg')"
   ]
  },
  {
   "cell_type": "markdown",
   "id": "40698b81-f85a-4347-b8be-62488ca5198b",
   "metadata": {},
   "source": [
    "### 수고하셨습니다 ."
   ]
  }
 ],
 "metadata": {
  "kernelspec": {
   "display_name": "school_class",
   "language": "python",
   "name": "python3"
  },
  "language_info": {
   "codemirror_mode": {
    "name": "ipython",
    "version": 3
   },
   "file_extension": ".py",
   "mimetype": "text/x-python",
   "name": "python",
   "nbconvert_exporter": "python",
   "pygments_lexer": "ipython3",
   "version": "3.12.9"
  }
 },
 "nbformat": 4,
 "nbformat_minor": 5
}
